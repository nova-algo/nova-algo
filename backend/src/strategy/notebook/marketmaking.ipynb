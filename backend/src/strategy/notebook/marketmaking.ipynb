{
 "cells": [
  {
   "cell_type": "markdown",
   "metadata": {},
   "source": [
    "# Market Maker Bot Explanation\n",
    "    This notebook explains the implementation of a market maker bot for cryptocurrency trading on the Drift protocol. We'll break down each section of the code, explaining its purpose and functionality.\n"
   ]
  },
  {
   "cell_type": "markdown",
   "metadata": {},
   "source": [
    "## 1. Imports and Logging Setup"
   ]
  },
  {
   "cell_type": "code",
   "execution_count": 1,
   "metadata": {},
   "outputs": [
    {
     "ename": "ModuleNotFoundError",
     "evalue": "No module named 'driftpy'",
     "output_type": "error",
     "traceback": [
      "\u001b[1;31m---------------------------------------------------------------------------\u001b[0m",
      "\u001b[1;31mModuleNotFoundError\u001b[0m                       Traceback (most recent call last)",
      "Cell \u001b[1;32mIn[1], line 11\u001b[0m\n\u001b[0;32m      9\u001b[0m \u001b[38;5;28;01mimport\u001b[39;00m \u001b[38;5;21;01mpandas\u001b[39;00m \u001b[38;5;28;01mas\u001b[39;00m \u001b[38;5;21;01mpd\u001b[39;00m\n\u001b[0;32m     10\u001b[0m \u001b[38;5;28;01mfrom\u001b[39;00m \u001b[38;5;21;01mio\u001b[39;00m \u001b[38;5;28;01mimport\u001b[39;00m StringIO\n\u001b[1;32m---> 11\u001b[0m \u001b[38;5;28;01mfrom\u001b[39;00m \u001b[38;5;21;01mdriftpy\u001b[39;00m\u001b[38;5;21;01m.\u001b[39;00m\u001b[38;5;21;01mtypes\u001b[39;00m \u001b[38;5;28;01mimport\u001b[39;00m OrderType, OrderParams, PositionDirection, MarketType\n\u001b[0;32m     12\u001b[0m \u001b[38;5;28;01mfrom\u001b[39;00m \u001b[38;5;21;01mdriftpy\u001b[39;00m\u001b[38;5;21;01m.\u001b[39;00m\u001b[38;5;21;01mconstants\u001b[39;00m\u001b[38;5;21;01m.\u001b[39;00m\u001b[38;5;21;01mnumeric_constants\u001b[39;00m \u001b[38;5;28;01mimport\u001b[39;00m BASE_PRECISION, PRICE_PRECISION\n\u001b[0;32m     13\u001b[0m \u001b[38;5;28;01mfrom\u001b[39;00m \u001b[38;5;21;01msrc\u001b[39;00m\u001b[38;5;21;01m.\u001b[39;00m\u001b[38;5;21;01mapi\u001b[39;00m\u001b[38;5;21;01m.\u001b[39;00m\u001b[38;5;21;01mdrift\u001b[39;00m\u001b[38;5;21;01m.\u001b[39;00m\u001b[38;5;21;01mapi\u001b[39;00m \u001b[38;5;28;01mimport\u001b[39;00m DriftAPI\n",
      "\u001b[1;31mModuleNotFoundError\u001b[0m: No module named 'driftpy'"
     ]
    }
   ],
   "source": [
    "import asyncio\n",
    "import logging\n",
    "import time\n",
    "from typing import Dict, List, Tuple, Optional\n",
    "from decimal import Decimal\n",
    "import numpy as np \n",
    "import aiohttp\n",
    "import requests\n",
    "import pandas as pd\n",
    "from io import StringIO\n",
    "from driftpy.types import OrderType, OrderParams, PositionDirection, MarketType\n",
    "from driftpy.constants.numeric_constants import BASE_PRECISION, PRICE_PRECISION\n",
    "from src.api.drift.api import DriftAPI\n",
    "from src.common.types import MarketAccountType, MarketMakerConfig, Bot, PositionType\n"
   ]
  },
  {
   "cell_type": "markdown",
   "metadata": {},
   "source": [
    "# Configure logging"
   ]
  },
  {
   "cell_type": "code",
   "execution_count": null,
   "metadata": {},
   "outputs": [],
   "source": [
    "logging.basicConfig(level=logging.INFO, format='%(asctime)s - %(levelname)s - %(message)s')\n",
    "logger = logging.getLogger(__name__)"
   ]
  },
  {
   "cell_type": "markdown",
   "metadata": {},
   "source": [
    "# Market Maker Bot initialization"
   ]
  },
  {
   "cell_type": "markdown",
   "metadata": {},
   "source": [
    "Initializes the MarketMaker instance with the provided DriftAPI and configuration.\n",
    "Sets up initial values for various attributes like position size, order book, and volatility."
   ]
  },
  {
   "cell_type": "code",
   "execution_count": null,
   "metadata": {},
   "outputs": [],
   "source": [
    "class MarketMaker(Bot):\n",
    "        def __init__(self, drift_api: DriftAPI, config: MarketMakerConfig):\n",
    "            \"\"\"\n",
    "            Initialize the MarketMaker class.\n",
    "            :param drift_api: Instance of DriftAPI for interacting with the Drift protocol\n",
    "            :param config: Configuration for the market making strategy\n",
    "            \"\"\"\n",
    "            self.drift_api = drift_api\n",
    "            self.config = config\n",
    "            self.market_index = config.market_indexes[0]\n",
    "            self.current_orders: Dict[int, OrderParams] = {}\n",
    "            self.position_size = Decimal('0')\n",
    "            self.last_trade_price = None\n",
    "            self.order_book: Dict[str, List[Tuple[Decimal, Decimal]]] = {'bids': [], 'asks': []}\n",
    "            \n",
    "            self.inventory_extreme = Decimal('50')\n",
    "            self.max_orders = 8\n",
    "            \n",
    "            self.vwap = None\n",
    "            self.last_price_update = 0\n",
    "            self.price_update_interval = 60  # Update price every 60 seconds\n",
    "            self.volatility = Decimal('0.01')  # Initial volatility estimate\n",
    "            self.volatility_window = 20  # Number of price updates to use for volatility calculation\n",
    "            self.price_history: List[Decimal] = []\n",
    "            self.health_check_interval = 60\n",
    "            self.last_health_check = 0\n",
    "            self.is_healthy = True\n",
    "            self.is_running = False"
   ]
  },
  {
   "cell_type": "markdown",
   "metadata": {},
   "source": [
    "Initializes the market maker by setting up the market index and initial position.\n",
    "Retrieves the current position for the specified market index."
   ]
  },
  {
   "cell_type": "code",
   "execution_count": 2,
   "metadata": {},
   "outputs": [],
   "source": [
    "async def init(self):\n",
    "            \"\"\"\n",
    "            Initialize the market maker by setting up the market index and initial position.\n",
    "            \"\"\"\n",
    "            # Initialize the position\n",
    "            position: Optional[PositionType] = await self.drift_api.get_position(self.market_index, self.config.market_type)\n",
    "            if position:\n",
    "                self.position_size = Decimal(str(position.base_asset_amount)) / BASE_PRECISION\n",
    "            else:\n",
    "                self.position_size = Decimal('0')\n",
    "        \n",
    "            logger.info(f\"Initialized market maker for {self.config.symbol} (Market Index: {self.market_index})\")\n",
    "            logger.info(f\"Initial position size: {self.position_size}\")"
   ]
  },
  {
   "cell_type": "markdown",
   "metadata": {},
   "source": [
    "Calculates the skew for bid and ask orders based on the current inventory level.\n",
    "Returns a tuple of bid and ask skew values."
   ]
  },
  {
   "cell_type": "code",
   "execution_count": null,
   "metadata": {},
   "outputs": [],
   "source": [
    "async def _skew(self) -> Tuple[float, float]:\n",
    "        \"\"\"\n",
    "        Calculates the skew for bid and ask orders based on the current inventory level and generate skew value.\n",
    "        \"\"\"\n",
    "        skew = self._generate_skew()\n",
    "        skew = round(skew, 2)\n",
    "        \n",
    "        bid_skew = max(0, min(skew, 1))\n",
    "        ask_skew = max(0, min(-skew, 1))\n",
    "        \n",
    "        inventory_delta = self.position_size - self.config.inventory_target\n",
    "        bid_skew += float(inventory_delta) if inventory_delta < 0 else 0\n",
    "        ask_skew -= float(inventory_delta) if inventory_delta > 0 else 0\n",
    "        \n",
    "        bid_skew = bid_skew if inventory_delta > -self.inventory_extreme else 1\n",
    "        ask_skew = ask_skew if inventory_delta < +self.inventory_extreme else 1\n",
    "\n",
    "        if (bid_skew == 1 or ask_skew == 1) and (inventory_delta == 0):\n",
    "            return 0, 0\n",
    "\n",
    "        return abs(bid_skew), abs(ask_skew)"
   ]
  },
  {
   "cell_type": "markdown",
   "metadata": {},
   "source": [
    "Generates a skew value based on current market conditions and inventory.\n",
    "Considers price trend, inventory, and order book imbalance to produce a skew value between -1 and 1."
   ]
  },
  {
   "cell_type": "code",
   "execution_count": 3,
   "metadata": {},
   "outputs": [],
   "source": [
    "def _generate_skew(self) -> float:\n",
    "        \"\"\"\n",
    "        Generate a skew value based on current market conditions and inventory.\n",
    "        \n",
    "        :return: A float value between -1 and 1, where:\n",
    "                - Negative values indicate a bias towards selling\n",
    "                - Positive values indicate a bias towards buying\n",
    "                - 0 indicates a neutral stance\n",
    "        \"\"\"\n",
    "        if self.last_trade_price is None or self.vwap is None:\n",
    "            logger.warning(\"Not enough data to generate skew. Returning neutral skew.\")\n",
    "            return 0.0\n",
    "\n",
    "        # 1. Price trend component\n",
    "        price_trend = (self.last_trade_price - self.vwap) / self.vwap\n",
    "        price_skew = np.tanh(price_trend * 10)  # Scale and bound the trend\n",
    "\n",
    "        # 2. Inventory skew component\n",
    "        inventory_diff = self.position_size - self.config.inventory_target\n",
    "        max_inventory = self.config.max_position_size\n",
    "        inventory_skew = -np.tanh(inventory_diff / (max_inventory / 2))  # Negative because we want to reduce inventory\n",
    "\n",
    "        # 3. Order book imbalance component\n",
    "        bid_volume = sum(bid[1] for bid in self.order_book['bids'])\n",
    "        ask_volume = sum(ask[1] for ask in self.order_book['asks'])\n",
    "        if bid_volume + ask_volume > 0:\n",
    "            book_imbalance = (bid_volume - ask_volume) / (bid_volume + ask_volume)\n",
    "            book_skew = np.tanh(book_imbalance * 2)\n",
    "        else:\n",
    "            book_skew = 0\n",
    "\n",
    "        # Combine components with weights\n",
    "        total_skew = (\n",
    "            0.3 * price_skew +\n",
    "            0.5 * inventory_skew +\n",
    "            0.2 * book_skew\n",
    "        )\n",
    "\n",
    "        return float(total_skew)\n"
   ]
  },
  {
   "cell_type": "markdown",
   "metadata": {},
   "source": [
    "\n",
    "Updates the Volume Weighted Average Price (VWAP) based on historical trade data.\n",
    "Fetches data from an S3 bucket and calculates VWAP for the specified market index."
   ]
  },
  {
   "cell_type": "code",
   "execution_count": null,
   "metadata": {},
   "outputs": [],
   "source": [
    "async def update_vwap(self):\n",
    "        \"\"\"Update the Volume Weighted Average Price (VWAP).\"\"\"\n",
    "        current_time = time.time()\n",
    "        if current_time - self.last_price_update < self.price_update_interval:\n",
    "            return\n",
    "\n",
    "        try:\n",
    "            if self.session is None:\n",
    "                self.session = aiohttp.ClientSession()\n",
    "            \n",
    "            url = 'https://drift-historical-data-v2.s3.eu-west-1.amazonaws.com/program/dRiftyHA39MWEi3m9aunc5MzRF1JYuBsbn6VPcn33UH/user/FrEFAwxdrzHxgc7S4cuFfsfLmcg8pfbxnkCQW83euyCS/tradeRecords/2024/20240929'\n",
    "            async with self.session.get(url) as response:\n",
    "                response.raise_for_status()\n",
    "                content = await response.text()\n",
    "            \n",
    "            df = pd.read_csv(StringIO(content))\n",
    "            df_filtered = df[df['marketIndex'] == self.market_index]\n",
    "            \n",
    "            if df_filtered.empty:\n",
    "                logger.warning(f\"No data found for market index {self.market_index}\")\n",
    "                return\n",
    "            \n",
    "            df_filtered['volume'] = df_filtered['price'] * df_filtered['size']\n",
    "            total_volume = df_filtered['volume'].sum()\n",
    "            self.vwap = df_filtered['volume'].sum() / df_filtered['size'].sum()\n",
    "            \n",
    "            self.last_price_update = current_time\n",
    "            logger.info(f\"Updated VWAP: {self.vwap}\")\n",
    "        except Exception as e:\n",
    "            logger.error(f\"Error updating VWAP: {str(e)}\")"
   ]
  },
  {
   "cell_type": "markdown",
   "metadata": {},
   "source": [
    "Generates arrays of bid and ask prices based on market conditions and skew.\n",
    "Adjusts prices based on the current best bid/ask and the calculated spread."
   ]
  },
  {
   "cell_type": "code",
   "execution_count": null,
   "metadata": {},
   "outputs": [],
   "source": [
    "def _prices(self, bid_skew: float, ask_skew: float) -> Tuple[Optional[np.ndarray], Optional[np.ndarray]]:\n",
    "        \"\"\"\n",
    "        Generates a list of bid and ask prices based on market conditions and skew.\n",
    "        \"\"\"\n",
    "        best_bid, best_ask = self.order_book['bids'][0][0], self.order_book['asks'][0][0]\n",
    "        spread = self._adjusted_spread()\n",
    "\n",
    "        if bid_skew >= 1:\n",
    "            bid_lower = best_bid - (spread * self.max_orders)\n",
    "            bid_prices = np.linspace(best_bid, bid_lower, self.max_orders)\n",
    "            return bid_prices, None\n",
    "        elif ask_skew >= 1:\n",
    "            ask_upper = best_ask + (spread * self.max_orders)\n",
    "            ask_prices = np.linspace(best_ask, ask_upper, self.max_orders)\n",
    "            return None, ask_prices\n",
    "        elif bid_skew >= ask_skew:\n",
    "            best_bid = best_ask - spread * 0.33\n",
    "            best_ask = best_bid + spread * 0.67\n",
    "        elif bid_skew < ask_skew:\n",
    "            best_ask = best_bid + spread * 0.33\n",
    "            best_bid = best_ask - spread * 0.67\n",
    "\n",
    "        base_range = self.config.volatility_value / 2\n",
    "        bid_lower = best_bid - (base_range * (1 - bid_skew))\n",
    "        ask_upper = best_ask + (base_range * (1 - ask_skew))\n",
    "\n",
    "        bid_prices = np.geomspace(best_bid, bid_lower, self.max_orders // 2)\n",
    "        ask_prices = np.geomspace(best_ask, ask_upper, self.max_orders // 2)\n",
    "\n",
    "        return bid_prices, ask_prices"
   ]
  },
  {
   "cell_type": "markdown",
   "metadata": {},
   "source": [
    "Calculates order sizes for bid and ask orders, adjusting based on skew and inventory levels.\n",
    "Returns arrays of bid and ask sizes."
   ]
  },
  {
   "cell_type": "code",
   "execution_count": null,
   "metadata": {},
   "outputs": [],
   "source": [
    "def _sizes(self, bid_skew: float, ask_skew: float) -> Tuple[Optional[np.ndarray], Optional[np.ndarray]]:\n",
    "        \"\"\"\n",
    "        Calculates order sizes for bid and ask orders, adjusting based on skew and inventory levels.\n",
    "        \"\"\"\n",
    "        if bid_skew >= 1:\n",
    "            bid_sizes = np.full(\n",
    "                shape=self.max_orders,\n",
    "                fill_value=np.median([self.config.min_order_size, self.config.max_order_size / 2])\n",
    "            )\n",
    "            return bid_sizes, None\n",
    "        elif ask_skew >= 1:\n",
    "            ask_sizes = np.full(\n",
    "                shape=self.max_orders,\n",
    "                fill_value=np.median([self.config.min_order_size, self.config.max_order_size / 2])\n",
    "            )\n",
    "            return None, ask_sizes\n",
    "\n",
    "        bid_min = self.config.min_order_size * (1 + bid_skew**0.5)\n",
    "        bid_upper = self.config.max_order_size * (1 - bid_skew)\n",
    "        ask_min = self.config.min_order_size * (1 + ask_skew**0.5)\n",
    "        ask_upper = self.config.max_order_size * (1 - ask_skew)\n",
    "\n",
    "        bid_sizes = np.geomspace(\n",
    "            start=bid_min if bid_skew >= ask_skew else self.config.min_order_size,\n",
    "            stop=bid_upper,\n",
    "            num=self.max_orders // 2\n",
    "        )\n",
    "        ask_sizes = np.geomspace(\n",
    "            start=ask_min if ask_skew >= bid_skew else self.config.min_order_size,\n",
    "            stop=ask_upper,\n",
    "            num=self.max_orders // 2\n",
    "        )\n",
    "\n",
    "        return bid_sizes, ask_sizes \n",
    "    "
   ]
  },
  {
   "cell_type": "markdown",
   "metadata": {},
   "source": [
    "Calculates an adjusted spread based on market conditions and risk factors.\n",
    "Considers volatility, inventory risk, market depth, and time-based factors."
   ]
  },
  {
   "cell_type": "code",
   "execution_count": null,
   "metadata": {},
   "outputs": [],
   "source": [
    "def _adjusted_spread(self) -> Decimal:\n",
    "        \"\"\"\n",
    "        Calculate an adjusted spread based on market conditions and risk factors.\n",
    "        \n",
    "        :return: Adjusted spread as a Decimal\n",
    "        \"\"\"\n",
    "        base_spread = self.config.base_spread\n",
    "\n",
    "        # 1. Volatility adjustment\n",
    "        volatility_factor = Decimal('1') + (self.volatility / Decimal('0.01'))  # Increase spread by 1% for each 1% of volatility\n",
    "        \n",
    "        # 2. Inventory risk adjustment\n",
    "        inventory_diff = abs(self.position_size - self.config.inventory_target)\n",
    "        max_inventory = self.config.max_position_size\n",
    "        inventory_factor = Decimal('1') + (inventory_diff / max_inventory) * Decimal('0.5')  # Max 50% increase for full inventory\n",
    "\n",
    "        # 3. Market depth adjustment\n",
    "        if self.order_book['bids'] and self.order_book['asks']:\n",
    "            bid_volume = sum(bid[1] for bid in self.order_book['bids'][:5])  # Sum volume of top 5 bids\n",
    "            ask_volume = sum(ask[1] for ask in self.order_book['asks'][:5])  # Sum volume of top 5 asks\n",
    "            avg_volume = (bid_volume + ask_volume) / 2\n",
    "            depth_factor = Decimal('1') + (Decimal('100') / (avg_volume + Decimal('1')))  # Increase spread for low liquidity\n",
    "        else:\n",
    "            depth_factor = Decimal('1.5')  # Default to 50% increase if order book is empty\n",
    "\n",
    "        # 4. Time-based adjustment (wider spreads during expected volatile periods)\n",
    "        current_time = time.localtime()\n",
    "        if current_time.tm_hour in [14, 15, 16]:  # Assuming market opens at 14:00 UTC\n",
    "            time_factor = Decimal('1.2')  # 20% wider spreads during first 3 hours of trading\n",
    "        elif current_time.tm_hour in [21, 22]:  # Assuming market closes at 23:00 UTC\n",
    "            time_factor = Decimal('1.1')  # 10% wider spreads during last 2 hours of trading\n",
    "        else:\n",
    "            time_factor = Decimal('1')\n",
    "\n",
    "        # Combine all factors\n",
    "        adjusted_spread = base_spread * volatility_factor * inventory_factor * depth_factor * time_factor\n",
    "\n",
    "        # Apply minimum and maximum spread limits\n",
    "        min_spread = self.config.base_spread / 2\n",
    "        max_spread = self.config.base_spread * 5\n",
    "        adjusted_spread = max(min_spread, min(adjusted_spread, max_spread))\n",
    "\n",
    "        logger.info(f\"Adjusted spread: {adjusted_spread}\")\n",
    "        return adjusted_spread\n",
    "    "
   ]
  },
  {
   "cell_type": "markdown",
   "metadata": {},
   "source": [
    "Updates the volatility estimate based on recent price history.\n",
    "Uses a rolling window of price data to calculate standard deviation of returns."
   ]
  },
  {
   "cell_type": "code",
   "execution_count": null,
   "metadata": {},
   "outputs": [],
   "source": [
    "async def update_volatility(self):\n",
    "        \"\"\"Update the volatility estimate based on recent price history.\"\"\"\n",
    "        if self.last_trade_price is None:\n",
    "            return\n",
    "\n",
    "        self.price_history.append(self.last_trade_price)\n",
    "        if len(self.price_history) > self.volatility_window:\n",
    "            self.price_history.pop(0)\n",
    "\n",
    "        if len(self.price_history) >= 2:\n",
    "            returns = [float(price / self.price_history[i - 1] - 1) for i, price in enumerate(self.price_history) if i > 0]\n",
    "            self.volatility = Decimal(str(np.std(returns) * np.sqrt(len(returns))))\n",
    "            logger.info(f\"Updated volatility estimate: {self.volatility}\")\n",
    "            "
   ]
  },
  {
   "cell_type": "markdown",
   "metadata": {},
   "source": [
    "Generates a list of market making quotes (side, price, size) to be placed on the exchange.\n",
    "Uses the calculated skews, prices, and sizes to create quotes."
   ]
  },
  {
   "cell_type": "code",
   "execution_count": null,
   "metadata": {},
   "outputs": [],
   "source": [
    "async def generate_quotes(self) -> List[Tuple[str, float, float]]:\n",
    "        \"\"\"\n",
    "        Generates a list of market making quotes to be placed on the exchange.\n",
    "        \"\"\"\n",
    "        bid_skew, ask_skew = self._skew()\n",
    "        bid_prices, ask_prices = self._prices(bid_skew, ask_skew)\n",
    "        bid_sizes, ask_sizes = self._sizes(bid_skew, ask_skew)\n",
    "\n",
    "        quotes = []\n",
    "\n",
    "        if bid_prices is not None and bid_sizes is not None:\n",
    "            for price, size in zip(bid_prices, bid_sizes):\n",
    "                quotes.append((\"Buy\", float(price), float(size)))\n",
    "\n",
    "        if ask_prices is not None and ask_sizes is not None:\n",
    "            for price, size in zip(ask_prices, ask_sizes):\n",
    "                quotes.append((\"Sell\", float(price), float(size)))\n",
    "\n",
    "        logger.info(f\"Generated {len(quotes)} quotes\")\n",
    "        return quotes\n",
    "    "
   ]
  },
  {
   "cell_type": "markdown",
   "metadata": {},
   "source": [
    "Places new orders based on the generated quotes.\n",
    "Cancels existing orders before placing new ones."
   ]
  },
  {
   "cell_type": "code",
   "execution_count": null,
   "metadata": {},
   "outputs": [],
   "source": [
    "async def place_orders(self):\n",
    "        \"\"\"\n",
    "        Place new orders based on the generated quotes.\n",
    "        \"\"\"\n",
    "        await self.cancel_all_orders()\n",
    "        quotes = await self.generate_quotes()\n",
    "\n",
    "        for side, price, size in quotes:\n",
    "            order_params = OrderParams(\n",
    "                order_type=OrderType.Limit(),\n",
    "                market_type=self.config.market_type,\n",
    "                direction=PositionDirection.Long() if side == \"Buy\" else PositionDirection.Short(),\n",
    "                base_asset_amount=int(size * BASE_PRECISION),\n",
    "                price=int(price * PRICE_PRECISION),\n",
    "                market_index=self.market_index,\n",
    "                reduce_only=False\n",
    "            )\n",
    "            result = await self.drift_api.place_order_and_get_order_id(order_params)\n",
    "            if result:\n",
    "                tx_sig, order_id = result\n",
    "                if order_id is not None:\n",
    "                    logger.info(f\"Order placed successfully. Tx sig: {tx_sig}, Order ID: {order_id}\")\n",
    "                    self.current_orders[order_id] = order_params\n",
    "                else:\n",
    "                    logger.warning(f\"Order placed, but couldn't retrieve Order ID. Tx sig: {tx_sig}\")\n",
    "            else:\n",
    "                logger.error(\"Failed to place order\")"
   ]
  },
  {
   "cell_type": "markdown",
   "metadata": {},
   "source": [
    "Starts the main loop for the market making strategy.\n",
    "Continuously updates order book, position, VWAP, manages inventory, and places orders."
   ]
  },
  {
   "cell_type": "code",
   "execution_count": null,
   "metadata": {},
   "outputs": [],
   "source": [
    "async def start_interval_loop(self, interval_ms: int = 1000):\n",
    "        while True:\n",
    "            try:\n",
    "                await self.update_order_book()\n",
    "                await self.update_position()\n",
    "                await self.place_orders()\n",
    "                await asyncio.sleep(interval_ms / 1000)\n",
    "            except Exception as e:\n",
    "                logger.error(f\"An error occurred: {str(e)}\")\n",
    "                await asyncio.sleep(10)"
   ]
  },
  {
   "cell_type": "markdown",
   "metadata": {},
   "source": [
    "Resets the market maker state and cancels all existing orders.\n",
    "Reinitializes the position and clears internal state."
   ]
  },
  {
   "cell_type": "code",
   "execution_count": null,
   "metadata": {},
   "outputs": [],
   "source": [
    "async def reset(self):\n",
    "        \"\"\"\n",
    "        Reset the market maker state and cancel all existing orders.\n",
    "        \"\"\"\n",
    "        logger.info(\"Resetting market maker...\")\n",
    "        self.is_running = False\n",
    "\n",
    "        # Cancel all existing orders\n",
    "        await self.cancel_all_orders()\n",
    "\n",
    "        # Reset internal state\n",
    "        self.current_orders.clear()\n",
    "        self.position_size = Decimal('0')\n",
    "        self.last_trade_price = None\n",
    "        self.order_book = {'bids': [], 'asks': []}\n",
    "        self.last_health_check = 0\n",
    "        self.is_healthy = True\n",
    "\n",
    "        # Re-initialize position\n",
    "        await self.update_position()\n",
    "\n",
    "        logger.info(\"Market maker reset complete.\")\n",
    "        self.is_running = True\n"
   ]
  },
  {
   "cell_type": "markdown",
   "metadata": {},
   "source": [
    "Starts the main loop for the market making strategy.\n",
    "Continuously updates order book, position, VWAP, manages inventory, and places orders."
   ]
  },
  {
   "cell_type": "code",
   "execution_count": null,
   "metadata": {},
   "outputs": [],
   "source": [
    "async def start_interval_loop(self, interval_ms: Optional[int] = 1000):\n",
    "        \"\"\"\n",
    "        Start the main loop for the market making strategy.\n",
    "        \"\"\"\n",
    "        self.is_running = True\n",
    "        while self.is_running:\n",
    "            try:\n",
    "                await self.health_check()\n",
    "                if not self.is_healthy:\n",
    "                    logger.warning(\"Health check failed. Attempting to reset...\")\n",
    "                    await self.reset()\n",
    "                    continue\n",
    "\n",
    "                await self.update_order_book()\n",
    "                await self.update_position()\n",
    "                await self.update_vwap()\n",
    "                await self.manage_inventory()\n",
    "                await self.place_orders()\n",
    "                \n",
    "                # Update last trade price\n",
    "                market = self.drift_api.get_market_price_data(self.market_index, self.config.market_type)\n",
    "                self.last_trade_price = Decimal(str(market.price)) / PRICE_PRECISION\n",
    "                \n",
    "                await asyncio.sleep(interval_ms / 1000)\n",
    "            except Exception as e:\n",
    "                logger.error(f\"An error occurred: {str(e)}\")\n",
    "                await asyncio.sleep(10)  # Wait for 10 seconds before retrying\n"
   ]
  },
  {
   "cell_type": "markdown",
   "metadata": {},
   "source": [
    "Performs a health check on the market maker.\n",
    "Verifies if the API can still fetch market data."
   ]
  },
  {
   "cell_type": "code",
   "execution_count": null,
   "metadata": {},
   "outputs": [],
   "source": [
    "async def health_check(self):\n",
    "        \"\"\"\n",
    "        Perform a health check on the market maker.\n",
    "        \"\"\"\n",
    "        current_time = time.time()\n",
    "        if current_time - self.last_health_check >= self.health_check_interval:\n",
    "            self.last_health_check = current_time\n",
    "            \n",
    "            try:\n",
    "                await self.drift_api.get_market(self.market_index)\n",
    "                self.is_healthy = True\n",
    "            except Exception as e:\n",
    "                logger.error(f\"Health check failed: {e}\")\n",
    "                self.is_healthy = False\n"
   ]
  },
  {
   "cell_type": "markdown",
   "metadata": {},
   "source": [
    "Updates the local order book with the latest market data from the API.\n",
    "Fetches trade records and simulates an order book based on the latest trade price."
   ]
  },
  {
   "cell_type": "code",
   "execution_count": null,
   "metadata": {},
   "outputs": [],
   "source": [
    "async def update_order_book(self):\n",
    "        \"\"\"\n",
    "        Update the local order book with the latest market data from the API.\n",
    "        \"\"\"\n",
    "        try:\n",
    "            # Fetch the latest trade records\n",
    "            url = 'https://drift-historical-data-v2.s3.eu-west-1.amazonaws.com/program/dRiftyHA39MWEi3m9aunc5MzRF1JYuBsbn6VPcn33UH/user/FrEFAwxdrzHxgc7S4cuFfsfLmcg8pfbxnkCQW83euyCS/tradeRecords/2024/20240929'\n",
    "            response = requests.get(url)\n",
    "            response.raise_for_status()\n",
    "            \n",
    "            # Parse the CSV data\n",
    "            df = pd.read_csv(StringIO(response.text))\n",
    "            \n",
    "            # Filter for the relevant market\n",
    "            df_filtered = df[df['marketIndex'] == self.market_index]\n",
    "            \n",
    "            if df_filtered.empty:\n",
    "                logger.warning(f\"No data found for market index {self.market_index}\")\n",
    "                return\n",
    "            \n",
    "            # Get the latest trade price\n",
    "            latest_trade = df_filtered.iloc[-1]\n",
    "            self.last_trade_price = Decimal(str(latest_trade['price'])) / PRICE_PRECISION\n",
    "            \n",
    "            # Simulate order book based on the latest trade price\n",
    "            mid_price = self.last_trade_price\n",
    "            \n",
    "            self.order_book = {\n",
    "                'bids': [(mid_price - Decimal('0.01') * i, Decimal('10')) for i in range(1, 6)],\n",
    "                'asks': [(mid_price + Decimal('0.01') * i, Decimal('10')) for i in range(1, 6)]\n",
    "            }\n",
    "            \n",
    "            logger.info(f\"Updated order book - Mid price: {mid_price}\")\n",
    "        except Exception as e:\n",
    "            logger.error(f\"Error updating order book: {str(e)}\")\n",
    "\n"
   ]
  },
  {
   "cell_type": "markdown",
   "metadata": {},
   "source": [
    "Calculates a dynamic spread based on current market conditions and inventory.\n",
    "Adjusts the base spread considering inventory risk and market volatility."
   ]
  },
  {
   "cell_type": "code",
   "execution_count": null,
   "metadata": {},
   "outputs": [],
   "source": [
    "def calculate_dynamic_spread(self) -> Decimal:\n",
    "        \"\"\"\n",
    "        Calculate the dynamic spread based on current market conditions and inventory.\n",
    "\n",
    "        :return: The calculated spread as a Decimal\n",
    "        \"\"\"\n",
    "        # Base spread\n",
    "        spread = self.config.base_spread\n",
    "        \n",
    "        # Adjust spread based on inventory risk\n",
    "        inventory_risk = abs(self.position_size - self.config.inventory_target) / self.config.max_position_size\n",
    "        spread += self.config.risk_factor * inventory_risk\n",
    "        \n",
    "        # Adjust spread based on market volatility\n",
    "        if self.last_trade_price:\n",
    "            market_price_data = self.drift_api.get_market_price_data(self.market_index, self.config.market_type)\n",
    "            current_price = Decimal(str(market_price_data.price)) / PRICE_PRECISION\n",
    "            price_change = abs(current_price - self.last_trade_price) / self.last_trade_price\n",
    "            spread += price_change * Decimal('0.5')  # Increase spread by 50% of the price change\n",
    "        \n",
    "        logger.info(f\"Calculated dynamic spread: {spread}\")\n",
    "        return spread"
   ]
  },
  {
   "cell_type": "markdown",
   "metadata": {},
   "source": [
    "Calculates the prices for buy and sell orders based on the current market and spread.\n",
    "Returns two lists of prices for buy and sell orders."
   ]
  },
  {
   "cell_type": "code",
   "execution_count": null,
   "metadata": {},
   "outputs": [],
   "source": [
    "def calculate_order_prices(self) -> Tuple[List[Decimal], List[Decimal]]:\n",
    "        \"\"\"\n",
    "        Calculate the prices for buy and sell orders based on the current market and spread.\n",
    "\n",
    "        :return: Two lists of Decimals, representing buy and sell prices\n",
    "        \"\"\"\n",
    "        spread = self.calculate_dynamic_spread()\n",
    "        market_price_data = self.drift_api.get_market_price_data(self.market_index, self.config.market_type)\n",
    "        mid_price = Decimal(str(market_price_data.price)) / PRICE_PRECISION\n",
    "        half_spread = spread / 2\n",
    "        buy_prices = [mid_price - half_spread - Decimal('0.01') * i for i in range(self.config.num_levels)]\n",
    "        sell_prices = [mid_price + half_spread + Decimal('0.01') * i for i in range(self.config.num_levels)]\n",
    "        \n",
    "        logger.info(f\"Calculated order prices - Buy: {buy_prices}, Sell: {sell_prices}\")\n",
    "        return buy_prices, sell_prices"
   ]
  },
  {
   "cell_type": "markdown",
   "metadata": {},
   "source": [
    "Calculates the prices for buy and sell orders based on the current market and spread.\n",
    "Returns two lists of prices for buy and sell orders."
   ]
  },
  {
   "cell_type": "code",
   "execution_count": null,
   "metadata": {},
   "outputs": [],
   "source": [
    "async def place_orders(self):\n",
    "        \"\"\"\n",
    "        Place new orders based on the calculated prices and current market conditions.\n",
    "        \"\"\"\n",
    "        await self.cancel_all_orders()\n",
    "        \n",
    "        buy_prices, sell_prices = self.calculate_order_prices()\n",
    "        \n",
    "        for i in range(self.config.num_levels):\n",
    "            # Place buy order\n",
    "            buy_params = OrderParams(\n",
    "                order_type=OrderType.Limit(),\n",
    "                market_type=self.config.market_type,\n",
    "                direction=PositionDirection.Long(),\n",
    "                base_asset_amount=int(self.config.order_size * BASE_PRECISION),\n",
    "                price=int(buy_prices[i] * PRICE_PRECISION),\n",
    "                market_index=self.market_index,\n",
    "                reduce_only=False\n",
    "            )\n",
    "            result = await self.drift_api.place_order_and_get_order_id(buy_params)\n",
    "            if result:\n",
    "                tx_sig, order_id = result\n",
    "                if order_id is not None:\n",
    "                    print(f\"Order placed successfully. Tx sig: {tx_sig}, Order ID: {order_id}\")\n",
    "                else:\n",
    "                    print(f\"Order placed, but couldn't retrieve Order ID. Tx sig: {tx_sig}\")\n",
    "            else:\n",
    "                print(\"Failed to place order\")\n",
    "\n",
    "            self.current_orders[order_id] = buy_params\n",
    "            \n",
    "            # Place sell order\n",
    "            sell_params = OrderParams(\n",
    "                order_type=OrderType.Limit(),\n",
    "                market_type=self.config.market_type,\n",
    "                direction=PositionDirection.Short(),\n",
    "                base_asset_amount=int(self.config.order_size * BASE_PRECISION),\n",
    "                price=int(sell_prices[i] * PRICE_PRECISION),\n",
    "                market_index=self.market_index,\n",
    "                reduce_only=False\n",
    "            )\n",
    "            result = await self.drift_api.place_order_and_get_order_id(sell_params)\n",
    "            \n",
    "            if result:\n",
    "                tx_sig, order_id = result\n",
    "                if order_id is not None:\n",
    "                    print(f\"Order placed successfully. Tx sig: {tx_sig}, Order ID: {order_id}\")\n",
    "                else:\n",
    "                    print(f\"Order placed, but couldn't retrieve Order ID. Tx sig: {tx_sig}\")\n",
    "            else:\n",
    "                print(\"Failed to place order\")\n",
    "\n",
    "            self.current_orders[order_id] = sell_params\n",
    "            #self.current_orders = self.drift_api.get_user_orders_map()\n",
    "            \n",
    "        logger.info(f\"Placed {len(self.current_orders)} orders\")"
   ]
  },
  {
   "cell_type": "markdown",
   "metadata": {},
   "source": [
    "Manages inventory by adjusting position size towards the target.\n",
    "Places market orders to reduce inventory if it deviates significantly from the target."
   ]
  },
  {
   "cell_type": "code",
   "execution_count": null,
   "metadata": {},
   "outputs": [],
   "source": [
    "    async def manage_inventory(self):\n",
    "        \"\"\"\n",
    "        Manage inventory by adjusting position size towards the target.\n",
    "        \"\"\"\n",
    "        if abs(self.position_size - self.config.inventory_target) > self.config.order_size:\n",
    "            direction = PositionDirection.Short() if self.position_size > self.config.inventory_target else PositionDirection.Long()\n",
    "            size = min(abs(self.position_size - self.config.inventory_target), self.config.max_position_size - abs(self.position_size))\n",
    "            \n",
    "            order_params = OrderParams(\n",
    "                order_type=OrderType.Market(),\n",
    "                market_type=self.config.market_type,\n",
    "                direction=direction,\n",
    "                base_asset_amount=int(size * BASE_PRECISION),\n",
    "                market_index=self.market_index,\n",
    "                reduce_only=False\n",
    "            )\n",
    "            \n",
    "            await self.drift_api.place_order(order_params)\n",
    "            logger.info(f\"Placed inventory management order: {'sell' if direction == PositionDirection.Short() else 'buy'} {size}\")\n"
   ]
  }
 ],
 "metadata": {
  "kernelspec": {
   "display_name": "Python 3",
   "language": "python",
   "name": "python3"
  },
  "language_info": {
   "codemirror_mode": {
    "name": "ipython",
    "version": 3
   },
   "file_extension": ".py",
   "mimetype": "text/x-python",
   "name": "python",
   "nbconvert_exporter": "python",
   "pygments_lexer": "ipython3",
   "version": "3.10.11"
  }
 },
 "nbformat": 4,
 "nbformat_minor": 2
}
