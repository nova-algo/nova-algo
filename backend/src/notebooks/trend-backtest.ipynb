{
 "cells": [
  {
   "cell_type": "markdown",
   "metadata": {},
   "source": [
    "# Solana Long-Only"
   ]
  },
  {
   "cell_type": "markdown",
   "metadata": {},
   "source": [
    "## Description\n",
    "The code here is a bit self explanatory, though it is important to know that this is not real strategy.\n",
    "It only exists for the purpose of showcasing the thought process we had"
   ]
  },
  {
   "cell_type": "markdown",
   "metadata": {},
   "source": [
    "### Setup\n",
    "These libraries below should be imported using `pip install <lib-name>` in your terminal.\n",
    "If there are conflicting installs due to environment, in your Jupyter Notebook, enter `%pip install <lib-name>`.\n",
    "The % serves as a way to replicate already existing installs into the very notebook, using magic install.\n",
    "\n",
    "For your convenience: `pip install numpy pandas matplotlib backtesting ccxt`"
   ]
  },
  {
   "cell_type": "code",
   "execution_count": null,
   "metadata": {},
   "outputs": [],
   "source": [
    "# Import these libraries\n",
    "import numpy as np\n",
    "import pandas as pd\n",
    "import matplotlib.pyplot as plt\n",
    "import matplotlib.dates as mdates\n",
    "from backtesting import Backtest, Strategy\n",
    "from backtesting.lib import crossover\n",
    "import ccxt"
   ]
  },
  {
   "cell_type": "markdown",
   "metadata": {},
   "source": [
    "### Class Definition: Indicator design & trade execution\n",
    "Here you will see how parameters were defined and used to design indicators. `Bactesting` does a fine job of initializing them via the `self.I()` method.\n",
    "Pandas plays a pivotal role in the power for the `init()` function as well as the `alma_calc()` function.\n",
    "The `next()` is where the strategy originally situates; housing position sizing which `Bactesting` has programmed as 0 = 0% and 1 = 100%, limiting each entry position size to be within the range of 0-1.\n",
    "\n",
    "Originally this section should have had dynamic position sizing but we had it taken out for easy exploration of this module. If you wish to try dynamic position sizing here are some steps:\n",
    "- risk = n / 100\n",
    "- capital = self.equity\n",
    "- price = self.data.Close[-1]\n",
    "- amount = (capital * risk) / price\n",
    "- px_size = max(0, min(amount, 1))"
   ]
  },
  {
   "cell_type": "code",
   "execution_count": null,
   "metadata": {},
   "outputs": [],
   "source": [
    "# Strategy Class Definition\n",
    "class LongOnlyStrategy(Strategy):\n",
    "    # Params\n",
    "    exhaustion_swing_length = 40\n",
    "    smoothing_factor = 5\n",
    "    threshold_multiplier = 1.5\n",
    "    atr_length = 14\n",
    "    alma_offset = 0.85\n",
    "    alma_sigma = 6\n",
    "    pyramiding = 5\n",
    "    \n",
    "    def init(self):\n",
    "        # Indicator setup + other extras\n",
    "        self.alma = self.I(self.alma_calc, self.data.Close, self.exhaustion_swing_length, self.alma_offset, self.alma_sigma)\n",
    "        self.smoothed_alma = self.I(lambda x: pd.Series(x).rolling(self.smoothing_factor).mean(), self.alma)\n",
    "        self.atr = self.I(lambda x: pd.Series(x).rolling(self.atr_length).mean(), self.data.TR)\n",
    "        self.dynamic_threshold = self.I(lambda x: pd.Series(x) * self.threshold_multiplier, self.atr)\n",
    "        self.upper_band = self.I(lambda x, y: pd.Series(x) + pd.Series(y).rolling(self.exhaustion_swing_length).std() * 1.5, self.smoothed_alma, self.data.Close)\n",
    "        self.lower_band = self.I(lambda x, y: pd.Series(x) - pd.Series(y).rolling(self.exhaustion_swing_length).std() * 1.5, self.smoothed_alma, self.data.Close)\n",
    "\n",
    "    def alma_calc(self, price, window, offset, sigma):\n",
    "        m = np.floor(offset * (window - 1))\n",
    "        s = window / sigma\n",
    "        w = np.exp(-((np.arange(window) - m) ** 2) / (2 * s * s))\n",
    "        w /= w.sum()\n",
    "\n",
    "        def alma(x):\n",
    "            return (np.convolve(x, w[::-1], mode='valid'))[0]\n",
    "\n",
    "        return pd.Series(price).rolling(window).apply(alma, raw=True)\n",
    "\n",
    "    def next(self):\n",
    "        price = self.data.Close[-1]\n",
    "        \n",
    "        # This is just to shorten the code and make it readable\n",
    "        buy_condition = crossover(self.data.Close, self.smoothed_alma + self.dynamic_threshold)\n",
    "        sell_condition = crossover(self.smoothed_alma - self.dynamic_threshold, self.data.Close)\n",
    "        \n",
    "        position_size = self.position.size\n",
    "\n",
    "        px_size = 0.75\n",
    "        # Never change it past 0.75 or you will go -ve in returns\n",
    "        # Unless you wish to try dynamic sizing as described above\n",
    "\n",
    "        if len(self.trades) >= self.pyramiding:\n",
    "            return\n",
    "        \n",
    "        if buy_condition:\n",
    "            if position_size < 1:\n",
    "                self.position.close()\n",
    "            self.buy(size=px_size)\n",
    "        elif sell_condition:\n",
    "            if position_size > 1:\n",
    "                self.position.close()\n",
    "            self.sell(size=px_size)"
   ]
  },
  {
   "cell_type": "markdown",
   "metadata": {},
   "source": [
    "### True Range and Volatility\n",
    "There is a sleight of hand here that may be missed with how the volaitility is calculated, we opted for the most roadside version.\n",
    "Nevertheless for the purpose of this, it does the job well so not to worry."
   ]
  },
  {
   "cell_type": "code",
   "execution_count": null,
   "metadata": {},
   "outputs": [],
   "source": [
    "# Function to calculate True Range (used in ATR)\n",
    "def calculate_true_range(df):\n",
    "    df['Previous Close'] = df['Close'].shift(1)\n",
    "    df['High-Low'] = df['High'] - df['Low']\n",
    "    df['High-PrevClose'] = abs(df['High'] - df['Previous Close'])\n",
    "    df['Low-PrevClose'] = abs(df['Low'] - df['Previous Close'])\n",
    "    df['TR'] = df[['High-Low', 'High-PrevClose', 'Low-PrevClose']].max(axis=1)\n",
    "    return df['TR']\n",
    "\n",
    "# Function to calculate volatility (standard deviation of returns)\n",
    "# It isn't required in the grand scheme but it is a nice to have\n",
    "def calculate_volatility(df, window=14):\n",
    "    df['Returns'] = df['Close'].pct_change()\n",
    "    df['Volatility'] = df['Returns'].rolling(window).std()\n",
    "    # Return the rolling standard deviation of returns\n",
    "    \n",
    "    return df['Volatility']"
   ]
  },
  {
   "cell_type": "markdown",
   "metadata": {},
   "source": [
    "### Data Fetch & Management\n",
    "The purpose of CCXT exists right here: providing us with data.\n",
    "For the purpose of this example we used ByBit though you can try your hands on a host of exchanges and providers such as Coinbase and Binance\n",
    "You will notice the OHLCV & Timestamp are in sentence case (that is first letters capitalised) that is because this is the way `Backtesting` parses such data.\n",
    "So when you use another provider and they're in lower case altogether, if you're still using `Backtesting` it's advisable to adapt."
   ]
  },
  {
   "cell_type": "code",
   "execution_count": null,
   "metadata": {},
   "outputs": [],
   "source": [
    "# Fetch historical data from Bybit (or another exchange, if you like)\n",
    "def fetch_data(symbol, timeframe, start_date, end_date):\n",
    "    exchange = ccxt.bybit({'enableRateLimit': True})\n",
    "    \n",
    "    timeframe_seconds = {\n",
    "        '1m': 60, '5m': 300, '15m': 900, '30m': 1800,\n",
    "        '1h': 3600, '4h': 14400, '1d': 86400\n",
    "    }\n",
    "    \n",
    "    all_ohlcv = []\n",
    "    current_date = pd.Timestamp(start_date).tz_localize(None)\n",
    "    end_datetime = pd.Timestamp(end_date).tz_localize(None)\n",
    "    \n",
    "    while current_date < end_datetime:\n",
    "        try:\n",
    "            ohlcv = exchange.fetch_ohlcv(symbol, timeframe, exchange.parse8601(current_date.isoformat()), limit=1000)\n",
    "            all_ohlcv.extend(ohlcv)\n",
    "            if len(ohlcv):\n",
    "                current_date = pd.Timestamp(ohlcv[-1][0], unit='ms') + pd.Timedelta(seconds=timeframe_seconds[timeframe])\n",
    "            else:\n",
    "                current_date += pd.Timedelta(days=1)\n",
    "        except Exception as e:\n",
    "            print(f\"Error fetching data for {symbol}: {e}\")\n",
    "            break\n",
    "    \n",
    "    df = pd.DataFrame(all_ohlcv, columns=['Timestamp', 'Open', 'High', 'Low', 'Close', 'Volume'])\n",
    "    df['Timestamp'] = pd.to_datetime(df['Timestamp'], unit='ms')\n",
    "    df = df.set_index('Timestamp')\n",
    "    df['TR'] = calculate_true_range(df)\n",
    "    return df"
   ]
  },
  {
   "cell_type": "markdown",
   "metadata": {},
   "source": [
    "### Running the backtest\n",
    "Ideally the stats for this part should be shown but we commented them out -- you can uncomment them if you like.\n",
    "The `result` variable provides a pretty decent summary of all that's required.\n",
    "It is assumed one may try to backtest many tickers, so provision for that was made accordingly."
   ]
  },
  {
   "cell_type": "code",
   "execution_count": null,
   "metadata": {},
   "outputs": [],
   "source": [
    "# Function to run the backtest and plot the results\n",
    "def run_backtest(df, symbol):\n",
    "    bt = Backtest(df, LongOnlyStrategy, cash=100000, commission=.002)\n",
    "    stats = bt.run()\n",
    "\n",
    "# Print the stats to check available keys\n",
    "    # print(f\"Stats for {symbol}:\")\n",
    "    # print(stats)  # This will show you all the keys available in the stats dictionary\n",
    "\n",
    "    # Calculate % return from day 1 to the final day\n",
    "    initial_equity = stats['_equity_curve']['Equity'][0]\n",
    "    final_equity = stats['_equity_curve']['Equity'][-1]\n",
    "    total_return = (final_equity - initial_equity) / initial_equity * 100\n",
    "    print(f\"Total Return for {symbol}: {total_return:.2f}%\")\n",
    "    \n",
    "    # Store results in a dictionary\n",
    "    result = {\n",
    "        'Symbol': symbol,\n",
    "        'Total Return (%)': total_return,\n",
    "        'Final Equity ($)': final_equity,\n",
    "        'Initial Equity ($)': initial_equity,\n",
    "        'Sharpe Ratio': stats['Sharpe Ratio'],\n",
    "        'Buy and Hold Return (%)': stats['Buy & Hold Return [%]'],\n",
    "        'Number of Trades': stats['# Trades'] if '# Trades' in stats else None,\n",
    "        'Win Rate (%)': stats['Win Rate [%]'] if 'Win Rate [%]' in stats else None,\n",
    "        'Max Drawdown (%)': stats['Max. Drawdown [%]'] if 'Max. Drawdown [%]' in stats else None\n",
    "    }\n",
    "    \n",
    "    return result  # Return the result for each symbol"
   ]
  },
  {
   "cell_type": "markdown",
   "metadata": {},
   "source": [
    "### Execution\n",
    "This is where the magic happens.\n",
    "Different timeframes have different runtimes, the 15m takes between 2-4 minutes to run on a 4-core Macbook Pro 2020 with 2TB of memory.\n",
    "As your proceed to test with `5m` and `1m` timeframes it is best to assume the runtimes will geometrically increase by 2.\n",
    "So `5m` can have runtimes of 4-8 minutes and `1m` can have run times of 8-16 minutes."
   ]
  },
  {
   "cell_type": "code",
   "execution_count": 12,
   "metadata": {},
   "outputs": [
    {
     "name": "stderr",
     "output_type": "stream",
     "text": [
      "/var/folders/f2/585ryz892g746nnxml0rgwn80000gn/T/ipykernel_85014/3484826680.py:124: FutureWarning: Series.__getitem__ treating keys as positions is deprecated. In a future version, integer keys will always be treated as labels (consistent with DataFrame behavior). To access a value by position, use `ser.iloc[pos]`\n",
      "  initial_equity = stats['_equity_curve']['Equity'][0]\n",
      "/var/folders/f2/585ryz892g746nnxml0rgwn80000gn/T/ipykernel_85014/3484826680.py:125: FutureWarning: Series.__getitem__ treating keys as positions is deprecated. In a future version, integer keys will always be treated as labels (consistent with DataFrame behavior). To access a value by position, use `ser.iloc[pos]`\n",
      "  final_equity = stats['_equity_curve']['Equity'][-1]\n"
     ]
    },
    {
     "name": "stdout",
     "output_type": "stream",
     "text": [
      "Total Return for SOLPERP: 36.37%\n",
      "Total Return for SOLUSDT: 35.80%\n",
      " Symbol  Total Return (%)  Final Equity ($)  Initial Equity ($)  Sharpe Ratio  Buy and Hold Return (%)  Number of Trades  Win Rate (%)  Max Drawdown (%)\n",
      "SOLPERP         36.373658     136373.657500            100000.0      0.284205                39.995126                 5         100.0        -47.461686\n",
      "SOLUSDT         35.795693     135795.693232            100000.0      0.284795                40.181080                 5         100.0        -47.496588\n"
     ]
    },
    {
     "name": "stderr",
     "output_type": "stream",
     "text": [
      "/var/folders/f2/585ryz892g746nnxml0rgwn80000gn/T/ipykernel_85014/3484826680.py:124: FutureWarning: Series.__getitem__ treating keys as positions is deprecated. In a future version, integer keys will always be treated as labels (consistent with DataFrame behavior). To access a value by position, use `ser.iloc[pos]`\n",
      "  initial_equity = stats['_equity_curve']['Equity'][0]\n",
      "/var/folders/f2/585ryz892g746nnxml0rgwn80000gn/T/ipykernel_85014/3484826680.py:125: FutureWarning: Series.__getitem__ treating keys as positions is deprecated. In a future version, integer keys will always be treated as labels (consistent with DataFrame behavior). To access a value by position, use `ser.iloc[pos]`\n",
      "  final_equity = stats['_equity_curve']['Equity'][-1]\n"
     ]
    }
   ],
   "source": [
    "# Main function to execute the script\n",
    "if __name__ == \"__main__\":\n",
    "    symbols = ['SOLPERP', 'SOLUSDT']  # List of symbols to backtest\n",
    "    timeframe = '15m' # You can change this time frame\n",
    "    start_date = '2024-01-01T00:00:00Z' # You can also change this\n",
    "    end_date = '2024-10-01T00:00:00Z' # And this\n",
    "\n",
    "    results = []  # List to store results for each symbol\n",
    "\n",
    "    for symbol in symbols: # Loop through each symbol and return the value into the results list\n",
    "        df = fetch_data(symbol, timeframe, start_date, end_date)\n",
    "        \n",
    "        # Add ATR and Volatility to the dataframe\n",
    "        df['ATR'] = calculate_true_range(df).rolling(14).mean()\n",
    "        df['Volatility'] = calculate_volatility(df)\n",
    "        \n",
    "        \n",
    "        # Run the backtest and store the results for each symbol\n",
    "        result = run_backtest(df, symbol)\n",
    "        results.append(result)  # Append the result to the list\n",
    "        \n",
    "\n",
    "    # Convert results to a DataFrame and display\n",
    "    results_df = pd.DataFrame(results)\n",
    "    results_df = results_df.to_string(index=False)\n",
    "    print(results_df)"
   ]
  }
 ],
 "metadata": {
  "kernelspec": {
   "display_name": ".venv",
   "language": "python",
   "name": "python3"
  },
  "language_info": {
   "codemirror_mode": {
    "name": "ipython",
    "version": 3
   },
   "file_extension": ".py",
   "mimetype": "text/x-python",
   "name": "python",
   "nbconvert_exporter": "python",
   "pygments_lexer": "ipython3",
   "version": "3.11.5"
  }
 },
 "nbformat": 4,
 "nbformat_minor": 2
}
